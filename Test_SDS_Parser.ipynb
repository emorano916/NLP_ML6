{
  "nbformat": 4,
  "nbformat_minor": 0,
  "metadata": {
    "colab": {
      "name": "Test SDS Parser.ipynb",
      "provenance": [],
      "collapsed_sections": []
    },
    "kernelspec": {
      "name": "python3",
      "display_name": "Python 3"
    }
  },
  "cells": [
    {
      "cell_type": "code",
      "metadata": {
        "colab": {
          "base_uri": "https://localhost:8080/"
        },
        "id": "L8RYx9Y_FkQ9",
        "outputId": "7dca3ca5-1abb-43f5-927f-bf3ede128ca4"
      },
      "source": [
        "pip install SDSParser"
      ],
      "execution_count": 1,
      "outputs": [
        {
          "output_type": "stream",
          "text": [
            "Requirement already satisfied: SDSParser in /usr/local/lib/python3.6/dist-packages (0.2.2)\n",
            "Requirement already satisfied: pycryptodome<3.8.0,>=3.7.3 in /usr/local/lib/python3.6/dist-packages (from SDSParser) (3.7.3)\n",
            "Requirement already satisfied: pytesseract<0.3.0,>=0.2.6 in /usr/local/lib/python3.6/dist-packages (from SDSParser) (0.2.9)\n",
            "Requirement already satisfied: pdfminer.six==20181108 in /usr/local/lib/python3.6/dist-packages (from SDSParser) (20181108)\n",
            "Requirement already satisfied: tqdm<4.32.0,>=4.31.1 in /usr/local/lib/python3.6/dist-packages (from SDSParser) (4.31.1)\n",
            "Requirement already satisfied: pdf2image<1.5,>=1.4.0 in /usr/local/lib/python3.6/dist-packages (from SDSParser) (1.4.2)\n",
            "Requirement already satisfied: chardet<3.1,>=3.0.4 in /usr/local/lib/python3.6/dist-packages (from SDSParser) (3.0.4)\n",
            "Requirement already satisfied: sortedcontainers<2.2.0,>=2.1.0 in /usr/local/lib/python3.6/dist-packages (from SDSParser) (2.1.0)\n",
            "Requirement already satisfied: tabulate<0.9.0,>=0.8.3 in /usr/local/lib/python3.6/dist-packages (from SDSParser) (0.8.7)\n",
            "Requirement already satisfied: six<2.0.0,>=1.12.0 in /usr/local/lib/python3.6/dist-packages (from SDSParser) (1.15.0)\n",
            "Requirement already satisfied: Pillow<5.5.0,>=5.4.1 in /usr/local/lib/python3.6/dist-packages (from SDSParser) (5.4.1)\n"
          ],
          "name": "stdout"
        }
      ]
    },
    {
      "cell_type": "code",
      "metadata": {
        "colab": {
          "base_uri": "https://localhost:8080/"
        },
        "id": "ujcNX6HyFnoi",
        "outputId": "86d40811-ccef-443d-f2d0-58bb40b2c9f8"
      },
      "source": [
        "from sdsparser import SDSParser as sparser\r\n",
        "\r\n",
        "sdsparser.request_keys"
      ],
      "execution_count": 8,
      "outputs": [
        {
          "output_type": "execute_result",
          "data": {
            "text/plain": [
              "['manufacturer',\n",
              " 'product_name',\n",
              " 'flash_point',\n",
              " 'specific_gravity',\n",
              " 'nfpa_fire',\n",
              " 'nfpa_health',\n",
              " 'nfpa_reactivity',\n",
              " 'sara_311',\n",
              " 'revision_date',\n",
              " 'physical_state',\n",
              " 'cas_number']"
            ]
          },
          "metadata": {
            "tags": []
          },
          "execution_count": 8
        }
      ]
    },
    {
      "cell_type": "code",
      "metadata": {
        "id": "ZI-I3CPMGAD2"
      },
      "source": [
        "request_keys = ['manufacturer','product_name',\r\n",
        " 'flash_point',\r\n",
        " 'specific_gravity',\r\n",
        " 'nfpa_fire',\r\n",
        " 'nfpa_health',\r\n",
        " 'nfpa_reactivity',\r\n",
        " 'sara_311',\r\n",
        " 'revision_date',\r\n",
        " 'physical_state',\r\n",
        " 'cas_number']\r\n",
        "parser = SDSParser(request_keys=request_keys)\r\n",
        "sds_data = parser.get_sds_data('/content/NN-dimethylformamide_3_US_EN_sds.pdf')"
      ],
      "execution_count": 17,
      "outputs": []
    },
    {
      "cell_type": "code",
      "metadata": {
        "colab": {
          "base_uri": "https://localhost:8080/"
        },
        "id": "CUXp3gSSGsRi",
        "outputId": "43955d41-0ebd-4b07-d776-af8c14c5948a"
      },
      "source": [
        "sds_data"
      ],
      "execution_count": 18,
      "outputs": [
        {
          "output_type": "execute_result",
          "data": {
            "text/plain": [
              "{'cas_number': 'Number:68-12-2· EC number:200',\n",
              " 'flash_point': '.· Advice for firefighters:· P',\n",
              " 'manufacturer': 'Data not listed',\n",
              " 'nfpa_fire': '2',\n",
              " 'nfpa_health': '2',\n",
              " 'nfpa_reactivity': '0',\n",
              " 'physical_state': 'LiquidColor:Colorless· Odor:Am',\n",
              " 'product_name': 'Identifier· Trade name:N,N-dimethylformamide· CAS Number:68-12-2· EC number:200-',\n",
              " 'revision_date': 'Data not listed',\n",
              " 'sara_311': 'Data not listed',\n",
              " 'specific_gravity': ':Not determined.· Vapor densit'}"
            ]
          },
          "metadata": {
            "tags": []
          },
          "execution_count": 18
        }
      ]
    },
    {
      "cell_type": "code",
      "metadata": {
        "id": "1n4xgD3WIFFI"
      },
      "source": [
        ""
      ],
      "execution_count": null,
      "outputs": []
    }
  ]
}